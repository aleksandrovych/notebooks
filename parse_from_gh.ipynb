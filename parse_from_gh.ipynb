{
 "cells": [
  {
   "cell_type": "markdown",
   "metadata": {},
   "source": [
    "## Imports"
   ]
  },
  {
   "cell_type": "code",
   "execution_count": 308,
   "metadata": {},
   "outputs": [],
   "source": [
    "import pandas as pd\n",
    "import numpy as np\n",
    "from collections import Counter\n",
    "from matplotlib import pyplot\n",
    "import seaborn as sns\n",
    "%matplotlib inline\n",
    "import urllib.request\n",
    "import requests\n",
    "from bs4 import BeautifulSoup"
   ]
  },
  {
   "cell_type": "code",
   "execution_count": 462,
   "metadata": {},
   "outputs": [],
   "source": [
    "data = requests.get('https://github.com/Yorko/mlcourse_open/blob/master/data/telecom_churn.csv')\n",
    "page = BeautifulSoup(data.text, 'html.parser')\n",
    "page = page.find_all(\"tr\")\n",
    "result = None\n",
    "\n",
    "for index, current in enumerate(page):\n",
    "    temp_list = list(map(lambda x: x.string, page[index]))\n",
    "    temp_list = list(filter(lambda a: a != \"\\n\", temp_list))\n",
    "    temp_list.remove(None)\n",
    "    \n",
    "    if result is None:\n",
    "        result = pd.DataFrame(columns=temp_list)\n",
    "        continue\n",
    "            \n",
    "    df = pd.DataFrame([temp_list], index=[index], columns=result.columns)\n",
    "    result = result.append(df)    "
   ]
  },
  {
   "cell_type": "code",
   "execution_count": 465,
   "metadata": {},
   "outputs": [],
   "source": [
    "result.to_csv(\"telecom_churn\")"
   ]
  },
  {
   "cell_type": "code",
   "execution_count": null,
   "metadata": {},
   "outputs": [],
   "source": []
  },
  {
   "cell_type": "code",
   "execution_count": null,
   "metadata": {
    "collapsed": true
   },
   "outputs": [],
   "source": []
  },
  {
   "cell_type": "code",
   "execution_count": null,
   "metadata": {
    "collapsed": true
   },
   "outputs": [],
   "source": []
  }
 ],
 "metadata": {
  "celltoolbar": "Raw Cell Format",
  "kernelspec": {
   "display_name": "Python 3",
   "language": "python",
   "name": "python3"
  },
  "language_info": {
   "codemirror_mode": {
    "name": "ipython",
    "version": 3
   },
   "file_extension": ".py",
   "mimetype": "text/x-python",
   "name": "python",
   "nbconvert_exporter": "python",
   "pygments_lexer": "ipython3",
   "version": "3.6.3"
  }
 },
 "nbformat": 4,
 "nbformat_minor": 2
}
